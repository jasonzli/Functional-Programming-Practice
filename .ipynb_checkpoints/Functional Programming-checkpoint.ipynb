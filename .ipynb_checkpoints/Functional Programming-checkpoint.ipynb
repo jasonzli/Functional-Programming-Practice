{
 "cells": [
  {
   "cell_type": "markdown",
   "metadata": {},
   "source": [
    "Working through https://maryrosecook.com/blog/post/a-practical-introduction-to-functional-programming \n",
    "\n",
    "This is mostly code and notes from my reading. Lots of reproductions in the text\n",
    "\n",
    "So Functional programming comes with a lot of kruft: immutable data, first class functions, tail call optimisation.\n",
    "\n",
    "then there's language features that aid in that: mapping ,reducing, pipelining, etc.\n",
    "\n",
    "But!\n",
    "\n",
    "She says functional programming is founded on one thing: the absence of side effects. This is the most important part of functional programming the rest follows"
   ]
  },
  {
   "cell_type": "code",
   "execution_count": 19,
   "metadata": {},
   "outputs": [],
   "source": [
    "from functools import reduce\n",
    "#python3 has moved its functional library to functools I guess?"
   ]
  },
  {
   "cell_type": "code",
   "execution_count": 1,
   "metadata": {},
   "outputs": [],
   "source": [
    "#A Functional incrementation \n",
    "def increment(a):\n",
    "    return a + 1"
   ]
  },
  {
   "cell_type": "markdown",
   "metadata": {},
   "source": [
    "Map is a function that takes the collection of items and returns a new, collection that has done the action on that collection.\n",
    "\n",
    "This prevents it from modifying the original piece and returning a new one.\n",
    "\n",
    "Do this instead of iteration over a collection\n"
   ]
  },
  {
   "cell_type": "code",
   "execution_count": 6,
   "metadata": {},
   "outputs": [
    {
     "name": "stdout",
     "output_type": "stream",
     "text": [
      "<map object at 0x000001E4F5A79E88>\n"
     ]
    }
   ],
   "source": [
    "#Example\n",
    "name_lengths = map(len, [\"Mary\", \"Isla\", \"Sam\"])\n",
    "print (name_lengths)"
   ]
  },
  {
   "cell_type": "markdown",
   "metadata": {},
   "source": [
    "Map will take anonymouse inlined functions with lambda. it doesn't take a named function. Len is a special case\n",
    "\n"
   ]
  },
  {
   "cell_type": "code",
   "execution_count": 13,
   "metadata": {},
   "outputs": [
    {
     "name": "stdout",
     "output_type": "stream",
     "text": [
      "[8734722589286813602, -7987522845639553372, -1488375067482798651]\n"
     ]
    }
   ],
   "source": [
    "#example\n",
    "names = ['Mary', 'Isla', 'Sam']\n",
    "#Perform hash on all objects and return new cell\n",
    "secret_names = list(map(hash, names))\n",
    "\n",
    "#In python3 map must be forced into list form.\n",
    "\n",
    "print(secret_names)\n",
    "#python3 returns a map object which is honestly better, but just be aware"
   ]
  },
  {
   "cell_type": "markdown",
   "metadata": {},
   "source": [
    "Reduce\n",
    "\n",
    "Take a function and collection and return a value created from combining them\n"
   ]
  },
  {
   "cell_type": "code",
   "execution_count": 18,
   "metadata": {},
   "outputs": [
    {
     "name": "stdout",
     "output_type": "stream",
     "text": [
      "10\n"
     ]
    }
   ],
   "source": [
    "#example\n",
    "sum = functools.reduce(lambda a, x: a + x, [0, 1, 2, 3, 4])\n",
    "#Here x is the iterated item and a is the accumulator, and a is the treturn\n",
    "#but the first value is x and it starts with the second value using a as\n",
    "#the first value and x as the second and goes from there.\n",
    "\n",
    "print (sum)"
   ]
  },
  {
   "cell_type": "code",
   "execution_count": 22,
   "metadata": {},
   "outputs": [
    {
     "name": "stdout",
     "output_type": "stream",
     "text": [
      "2\n"
     ]
    }
   ],
   "source": [
    "#A comparison\n",
    "#here is an imperative example from the text\n",
    "sentences = ['Alina baked cookies.',\n",
    "             'Jason baked brownies.',\n",
    "             'Sierra wrote poetry.']\n",
    "\n",
    "baked_count = 0\n",
    "for sentence in sentences:\n",
    "    baked_count += sentence.count('baked')\n",
    "\n",
    "print (baked_count)"
   ]
  },
  {
   "cell_type": "code",
   "execution_count": 26,
   "metadata": {},
   "outputs": [
    {
     "name": "stdout",
     "output_type": "stream",
     "text": [
      "2\n"
     ]
    }
   ],
   "source": [
    "sentences = ['Alina baked cookies.',\n",
    "             'Jason baked brownies.',\n",
    "             'Sierra wrote poetry.']\n",
    "#reduce must be given an initial value in cases where a and x are not the same\n",
    "#in this case, a is 'alina baked cookies' and x is 1 from 'jason baked brownies'\n",
    "#so by using 0 as the initial, we start with a = 0 and x is 1 from\n",
    "#'alina baked cookies'\n",
    "baked_count = reduce(lambda a, x: a + x.count('baked'), sentences,0)\n",
    "\n",
    "print(baked_count)"
   ]
  },
  {
   "cell_type": "markdown",
   "metadata": {},
   "source": [
    "In this case we leave sentences unchanged and the baked_count gives us a clear, function first way of acting on the collection. It's one line. where we would usually do a \"for x in list: do whatever\" \n",
    "\n",
    "Map and reduce are funcitonal by design. For loops have to tunderstood by logically thinking. Map and reduce are described as elemental, that is they are exactly what they do every time. For loops can be more complicated. Map and reduce come with a necessity to create specific outcomes.\n",
    "\n",
    "Filter, all, any, find are all version of the map and reduce behavior.\n",
    "\n",
    "Filter: return a collection of items for where the function returns true\n",
    "All: return true if all items are True\n",
    "any: return true if any itme is True (an Or function)\n",
    "Find: returns index if character is in string or -1 if not, based in a staart anf end index\n"
   ]
  },
  {
   "cell_type": "code",
   "execution_count": 27,
   "metadata": {},
   "outputs": [
    {
     "name": "stdout",
     "output_type": "stream",
     "text": [
      "120.0\n"
     ]
    }
   ],
   "source": [
    "#Exercise, Convert the following into functional\n",
    "people = [{'name': 'Mary', 'height': 160},\n",
    "          {'name': 'Isla', 'height': 80},\n",
    "          {'name': 'Sam'}]\n",
    "\n",
    "height_total = 0\n",
    "height_count = 0\n",
    "for person in people:\n",
    "    if 'height' in person:\n",
    "        height_total += person['height']\n",
    "        height_count += 1\n",
    "\n",
    "if height_count > 0:\n",
    "    average_height = height_total / height_count\n",
    "\n",
    "    print (average_height)\n",
    "    # => 120"
   ]
  },
  {
   "cell_type": "code",
   "execution_count": 43,
   "metadata": {},
   "outputs": [
    {
     "name": "stdout",
     "output_type": "stream",
     "text": [
      "120.0\n"
     ]
    }
   ],
   "source": [
    "people = [{'name': 'Mary', 'height': 160},\n",
    "          {'name': 'Isla', 'height': 80},\n",
    "          {'name': 'Sam'}]\n",
    "\n",
    "#filter for people with heights\n",
    "people_with_height = list(filter(lambda x: 'height' in x, people))\n",
    "\n",
    "#Get the total number of people?\n",
    "#A reduce funciton must have a lambda of a,x\n",
    "people_count = reduce(lambda a,x: a + 1, people_with_height,0)\n",
    "\n",
    "#Map the division and then add it back together\n",
    "people_heights = map(lambda x: x['height']/people_count,people_with_height)\n",
    "\n",
    "#Reduce together\n",
    "average_height = reduce(lambda a,x: a + x, people_heights)\n",
    "\n",
    "print(average_height)\n",
    "\n",
    "## My solution is above\n",
    "## Her solution is below"
   ]
  },
  {
   "cell_type": "code",
   "execution_count": 46,
   "metadata": {},
   "outputs": [
    {
     "name": "stdout",
     "output_type": "stream",
     "text": [
      "120.0\n"
     ]
    }
   ],
   "source": [
    "people = [{'name': 'Mary', 'height': 160},\n",
    "          {'name': 'Isla', 'height': 80},\n",
    "          {'name': 'Sam'}]\n",
    "\n",
    "#TURNS OUT YOU CAN JUST PUT THE FILTER RIGHT INTO THE MAP\n",
    "heights = list(map(lambda x: x['height'],\n",
    "              filter(lambda x: 'height' in x, people)))\n",
    "\n",
    "#AND THEN IT'S OK TO DO A LEN BECAUSE THAT'S USING, NOT MUTATING DATA FROM IT\n",
    "if len(heights) > 0:\n",
    "    from operator import add\n",
    "    average_height = reduce(add, heights) / len(heights)\n",
    "    \n",
    "print(average_height)\n",
    "\n",
    "#so my idea was right, to use reduce last, but it's ok to do a len for a value\n"
   ]
  },
  {
   "cell_type": "markdown",
   "metadata": {},
   "source": [
    "She goes into an example with 3 cars\n",
    "<h1> write declaratively, not imperatively</h1>\n",
    "\n",
    "in the Imperative version, a loop of time goes and runs a check on the cars.\n",
    "It randomly moves every car forward by iterating t hrough the list of all cars.\n",
    "\n",
    "This mutates the values of the cars."
   ]
  },
  {
   "cell_type": "code",
   "execution_count": 53,
   "metadata": {},
   "outputs": [
    {
     "name": "stdout",
     "output_type": "stream",
     "text": [
      "\n",
      "--\n",
      "-\n",
      "-\n",
      "\n",
      "--\n",
      "--\n",
      "--\n",
      "\n",
      "---\n",
      "---\n",
      "---\n",
      "\n",
      "---\n",
      "----\n",
      "---\n",
      "\n",
      "---\n",
      "----\n",
      "----\n"
     ]
    }
   ],
   "source": [
    "## THE ORIGINAL\n",
    "from random import random\n",
    "\n",
    "time = 5\n",
    "car_positions = [1, 1, 1]\n",
    "\n",
    "while time:\n",
    "    # decrease time\n",
    "    time -= 1\n",
    "\n",
    "    print ('')\n",
    "    for i in range(len(car_positions)):\n",
    "        # move car\n",
    "        if random() > 0.3:\n",
    "            car_positions[i] += 1\n",
    "\n",
    "        # draw car\n",
    "        print('-' * car_positions[i])"
   ]
  },
  {
   "cell_type": "code",
   "execution_count": 59,
   "metadata": {},
   "outputs": [
    {
     "name": "stdout",
     "output_type": "stream",
     "text": [
      "\n",
      "['--', '--', '-']\n",
      "\n",
      "['--', '---', '-']\n",
      "\n",
      "['---', '----', '-']\n",
      "\n",
      "['---', '----', '-']\n",
      "\n",
      "['----', '-----', '--']\n"
     ]
    }
   ],
   "source": [
    "## your turn!\n",
    "\n",
    "from random import random\n",
    "time = 5\n",
    "car_positions = [1,1,1]\n",
    "\n",
    "while time:\n",
    "    #decrease time\n",
    "    time -= 1\n",
    "    \n",
    "    print('')\n",
    "    \n",
    "    #mutate car positions\n",
    "    car_positions = list(map(lambda x: x+1*(random()>.3),car_positions))\n",
    "    #draw the cars\n",
    "    render_car_positions = list(map(lambda x: '-'*x,car_positions))\n",
    "    #and I got stuck at this last part\n",
    "    print(render_car_positions)"
   ]
  },
  {
   "cell_type": "markdown",
   "metadata": {},
   "source": [
    "But holy shit you can actually break it down so much futher.\n",
    "HEre is how she turned it into a time loop with two functions.\n",
    "\n",
    "by writing declaratively, she has moved much of the logic into specific functions that are called.\n",
    "\n",
    "This is actually something you should look into for the cleaning of update functions. That gives you reusability and abstraction of how state is modified."
   ]
  },
  {
   "cell_type": "code",
   "execution_count": 64,
   "metadata": {},
   "outputs": [
    {
     "name": "stdout",
     "output_type": "stream",
     "text": [
      "\n",
      "--\n",
      "--\n",
      "--\n",
      "\n",
      "---\n",
      "--\n",
      "--\n",
      "\n",
      "---\n",
      "--\n",
      "---\n",
      "\n",
      "---\n",
      "---\n",
      "----\n",
      "\n",
      "----\n",
      "---\n",
      "----\n"
     ]
    }
   ],
   "source": [
    "\n",
    "from random import random\n",
    "\n",
    "#this runs on the cars\n",
    "#I don't know about the _ in\n",
    "def move_cars():\n",
    "    for i, _ in enumerate(car_positions):\n",
    "        if random() > 0.3:\n",
    "            car_positions[i] += 1\n",
    "            \n",
    "#this is for drawing a car specifically\n",
    "def draw_car(car_position):\n",
    "    print ('-' * car_position)\n",
    "\n",
    "#uses the global variable of time that is abstract outside of everything else\n",
    "def run_step_of_race():\n",
    "    global time\n",
    "    time -= 1\n",
    "    move_cars()\n",
    "\n",
    "#this is a render function!\n",
    "def draw():\n",
    "    print ('')\n",
    "    for car_position in car_positions:\n",
    "        draw_car(car_position)\n",
    "\n",
    "time = 5\n",
    "car_positions = [1, 1, 1]\n",
    "\n",
    "while time:\n",
    "    run_step_of_race()\n",
    "    draw()"
   ]
  },
  {
   "cell_type": "markdown",
   "metadata": {},
   "source": [
    "She states that the best part of this is that the main loop of it all is descriptive, there is nothing hiding there. YOu can learn more by reading the other functions. But the basic parts are: run a step of the race, and draw it. Then loops. It is self describing.\n",
    "\n",
    "This is making it READABLE\n",
    "\n",
    "This is actually not functional. It is declarative. We affect state all over in her example. That is side effects. A functional version replaces that in every function. So she creates a different way of doing it.\n",
    "\n",
    "You tried this up above but here's how she does it"
   ]
  },
  {
   "cell_type": "code",
   "execution_count": 67,
   "metadata": {},
   "outputs": [
    {
     "name": "stdout",
     "output_type": "stream",
     "text": [
      "\n",
      "-\n",
      "-\n",
      "-\n",
      "\n",
      "--\n",
      "--\n",
      "--\n",
      "\n",
      "---\n",
      "---\n",
      "--\n",
      "\n",
      "----\n",
      "----\n",
      "---\n",
      "\n",
      "----\n",
      "-----\n",
      "----\n",
      "\n",
      "-----\n",
      "-----\n",
      "-----\n"
     ]
    }
   ],
   "source": [
    "from random import random\n",
    "\n",
    "#This is the only map function in the whole thing\n",
    "#this is exactly how you did it in the above transformation\n",
    "def move_cars(car_positions):\n",
    "    return list(map(lambda x: x + 1 if random() > 0.3 else x,\n",
    "               car_positions))\n",
    "\n",
    "#this output just takes the value and turns it into a string! easy\n",
    "def output_car(car_position):\n",
    "    return '-' * car_position\n",
    "\n",
    "#takes the state and creates a new state\n",
    "#THIS IS A PROTOTYPE PATTERN!!!!!\n",
    "#this function returns a copy of the existing thing with a mutation on it\n",
    "#AHHHHHH\n",
    "def run_step_of_race(state):\n",
    "    return {'time': state['time'] - 1,\n",
    "            'car_positions': move_cars(state['car_positions'])}\n",
    "\n",
    "#This takes the state and just prints it!\n",
    "def draw(state):\n",
    "    print ('')\n",
    "    print ('\\n'.join(map(output_car, state['car_positions'])))\n",
    "    #using join here lets us combine the entires in the array\n",
    "    #this was a shortcoming of how I understood python above, but the technique\n",
    "    #matches\n",
    "\n",
    "#1. START HERE\n",
    "#The race itself is a functional set up!\n",
    "def race(state):\n",
    "    draw(state)   #First draw the state\n",
    "    if state['time']:  #if the state stll has time\n",
    "        race(run_step_of_race(state)) #race again on the next state\n",
    "        \n",
    "#2. look at the state of the race\n",
    "state = {'time': 5,\n",
    "         'car_positions': [1,1,1]}\n",
    "#here I have separated the declaration of state itself\n",
    "race(state)\n",
    "\n",
    "#this is hers, where the state is declared IN the function\n",
    "#race({'time': 5,\n",
    "#      'car_positions': [1, 1, 1]})"
   ]
  },
  {
   "cell_type": "markdown",
   "metadata": {},
   "source": [
    "Notes on above, it's fascinating how it has taken everything and turned it into a function of a function. You start with data, and the functions just transform it. Thus you can change the initial starting point, but not really intervene in the follow through. This means you have clear output.\n",
    "\n",
    "This feels less readable. Although every function is clearly defined.\n",
    "\n",
    "She points out: no shared vairables! time is a property of the state. and so are car postiions. Functions all take parameters and importantly, no variable instantiation within the variables themselves.\n",
    "There is a return at all points. Race recurses based on a condition that is sent to it. A dependency is injected."
   ]
  },
  {
   "cell_type": "code",
   "execution_count": 131,
   "metadata": {},
   "outputs": [
    {
     "name": "stdout",
     "output_type": "stream",
     "text": [
      "-----\n",
      "Round 1\n",
      "Player 1: 0 wins --- Player 2: 0 wins\n",
      "-----\n",
      "Round 2\n",
      "Player 1: 0 wins --- Player 2: 1 wins\n",
      "-----\n",
      "Round 3\n",
      "Player 1: 0 wins --- Player 2: 1 wins\n",
      "-----\n",
      "Round 4\n",
      "Player 1: 1 wins --- Player 2: 1 wins\n",
      "-----\n",
      "Round 5\n",
      "Player 1: 1 wins --- Player 2: 1 wins\n",
      "-----\n",
      "Round 6\n",
      "Player 1: 2 wins --- Player 2: 1 wins\n",
      "-----\n",
      "Round 7\n",
      "Player 1: 3 wins --- Player 2: 1 wins\n"
     ]
    }
   ],
   "source": [
    "#Personal Exercise, write a RPS game between two players!\n",
    "#NOTE THAT THIS WAS WRITTEN BACKWARDS FROM THE BOTTOM UP\n",
    "\n",
    "from random import random\n",
    "import time\n",
    "\n",
    "#This is an arbitrary decider! We can use this for any 2 player game\n",
    "def decideWinner(player_wins):\n",
    "    if random() < .5: #player 1 wins\n",
    "        return [player_wins[0]+1,player_wins[1]]\n",
    "    else: #player 2 wins\n",
    "        return [player_wins[0],player_wins[1]+1]\n",
    "    \n",
    "#In this we actually do the work of the game\n",
    "def rps(player_wins, odds):\n",
    "    if random() < odds: #determine if a tie happened\n",
    "        return player_wins\n",
    "    else:\n",
    "        return decideWinner(player_wins)\n",
    "    #so here we get the arrays themselves first\n",
    "    #I am realizing that we actually... should increment upwards\n",
    "    #towards a 3\n",
    "\n",
    "#this should return a new state given a state\n",
    "#and sure enough this does not \"run a game\" but!\n",
    "#here I have defined where the action happens. in the wins area hwere\n",
    "#I will return a new array of values\n",
    "def round_of_play(state):\n",
    "    return {'rounds': state['rounds'] + 1,\n",
    "            'wins': rps(state['wins'], state['player_odds']),\n",
    "            'player_odds': state['player_odds']} \n",
    "    #we basically get more and more specific\n",
    "\n",
    "\n",
    "#this converts the array into wins per player\n",
    "#it is here that I realize one of the challenges of functional programming\n",
    "#:: NOTHING WORKS IF YHOU DON'T HAVE IT ALL IN THERE::\n",
    "#this literally cannot run right now without the rest of the code\n",
    "#actually it kind of works\n",
    "def output_wins(player_wins):\n",
    "    return f'Player {player_wins[0]+1}: {player_wins[1]} wins'\n",
    "\n",
    "#draw the state first\n",
    "def draw(state):\n",
    "    print('-----')\n",
    "    #print 2 lines that says player 1: x wins \\n player 2: y wins\n",
    "    print(f\"Round {state['rounds']+1}\")\n",
    "    print(' --- '.join(map(output_wins,list(enumerate(state['wins'])))))\n",
    "    \n",
    "#a basic play loop\n",
    "def play(state):\n",
    "    time.sleep(1.0)\n",
    "    draw(state)\n",
    "    if (3 not in state['wins']):\n",
    "        play(round_of_play(state))\n",
    "          \n",
    "state= {'rounds': 0,\n",
    "        'wins':[0,0],\n",
    "        'player_odds':0.3}\n",
    "play(state)"
   ]
  },
  {
   "cell_type": "markdown",
   "metadata": {},
   "source": [
    "IT WORKS OMFG"
   ]
  },
  {
   "cell_type": "code",
   "execution_count": 138,
   "metadata": {},
   "outputs": [
    {
     "name": "stdout",
     "output_type": "stream",
     "text": [
      "-----\n",
      "Round 1\n",
      "Player 1: 0 wins --- Player 2: 0 wins\n",
      "-----\n",
      "Round 2\n",
      "Player 1: 1 wins --- Player 2: 0 wins\n",
      "-----\n",
      "Round 3\n",
      "Player 1: 1 wins --- Player 2: 1 wins\n",
      "-----\n",
      "Round 4\n",
      "Player 1: 1 wins --- Player 2: 1 wins\n",
      "-----\n",
      "Round 5\n",
      "Player 1: 1 wins --- Player 2: 2 wins\n",
      "-----\n",
      "Round 6\n",
      "Player 1: 1 wins --- Player 2: 3 wins\n",
      "{'rounds': 1, 'wins': [0, 0], 'skill': [10, 20], 'draw_odds': 0.3333333333333333}\n"
     ]
    }
   ],
   "source": [
    "from random import random\n",
    "import time\n",
    "\n",
    "def decideWinner(player_wins):\n",
    "    if random() < .5:\n",
    "        return [player_wins[0]+1,player_wins[1]]\n",
    "    else: \n",
    "        return [player_wins[0],player_wins[1]+1]\n",
    "    \n",
    "def rps(player_wins, odds):\n",
    "    if random() < odds: \n",
    "        return player_wins\n",
    "    else:\n",
    "        return decideWinner(player_wins)\n",
    "    \n",
    "def round_of_play(state):\n",
    "    return {'rounds': state['rounds'] + 1,\n",
    "            'wins': rps(state['wins'], state['draw_odds']),\n",
    "            'skill': state['skill'],\n",
    "            'draw_odds': state['draw_odds']} \n",
    "\n",
    "def output_wins(player_wins):\n",
    "    return f'Player {player_wins[0]+1}: {player_wins[1]} wins'\n",
    "\n",
    "def draw(state):\n",
    "    print('-----')\n",
    "    print(f\"Round {state['rounds']}\")\n",
    "    print(' --- '.join(map(output_wins,list(enumerate(state['wins'])))))\n",
    "    \n",
    "def play(state):\n",
    "    time.sleep(1.0)\n",
    "    draw(state)\n",
    "    if (3 not in state['wins']):\n",
    "        play(round_of_play(state))\n",
    "          \n",
    "state= {'rounds': 1,\n",
    "        'wins':[0,0],\n",
    "        'skill':[10,20],\n",
    "        'draw_odds':1/3}\n",
    "play(state)\n",
    "          "
   ]
  },
  {
   "cell_type": "markdown",
   "metadata": {},
   "source": [
    "next up we are talking about zero() and one(), in these two functions we have a check for the first value, if it matches 0 or 1 then we return the rest of the string (excluding that first check), otherewise return none\n",
    "\n",
    "She says there is a function rule_sequence(string, \\[functions\\]) . It will run the functions in order on the given string, unless it hits a none, then it returns non. Otherwise it returns the final value of the rulres.\n",
    "\""
   ]
  },
  {
   "cell_type": "raw",
   "metadata": {},
   "source": [
    "#Checks 0 then 1 then 0\n",
    "print rule_sequence('0101', [zero, one, zero])\n",
    "# => 1\n",
    "\n",
    "#checks for 0 0\n",
    "print rule_sequence('0101', [zero, zero])\n",
    "# => None "
   ]
  },
  {
   "cell_type": "code",
   "execution_count": 139,
   "metadata": {},
   "outputs": [
    {
     "data": {
      "text/plain": [
       "'\\n\\n'"
      ]
     },
     "execution_count": 139,
     "metadata": {},
     "output_type": "execute_result"
    }
   ],
   "source": [
    "#Imperatively written\n",
    "def rule_sequence(s, rules):\n",
    "    for rule in rules:\n",
    "        s = rule(s)\n",
    "        if s == None:\n",
    "            break\n",
    "\n",
    "    return s\n",
    "\n",
    "#functionally written\n",
    "def rule_sequence(s, rules): #takes same parameters, remember the return is s\n",
    "    if s == None or not rules: #if the rules returned non or no rules left\n",
    "        return s #the above covers both outcomes. s itself becomes None\n",
    "    else:\n",
    "        return rule_sequence(rules[0](s), rules[1:]) #do the thing with one less rule\n",
    "        #rules[1:] basically skips the first indexed in the array\n",
    "        #^the above uses a property of python to basically immediately\n",
    "        #convert between the string and the function with () after it\n",
    "        #You would do this in c# with Func<> delegates\n",
    "        \n",
    "'''this is the c# version of this, cool!\n",
    "Func delegate means you need ot have a type involved\n",
    "public rule_sequence(s, Func<string>[] rules){\n",
    "    if s == null or !rules.Count:\n",
    "        return s;\n",
    "    else\n",
    "        return rule_sequence(rules[0](s), rules.Skip(1);\n",
    "}\n",
    "another note: array slicing in c#\n",
    "using Linq;\n",
    "array.Skip(# of skips)\n",
    "\n",
    "'''\n",
    "    "
   ]
  },
  {
   "cell_type": "markdown",
   "metadata": {},
   "source": [
    "<h1>Pipelines</h1>\n",
    "\n",
    "Before, we had imperative loops rewritten as recursions but a different types of loop calls for a different technique. The pipeline.\n",
    "\n",
    "HEre we will look at a loop that transforms on dictionaries that hold name, incorrect origin, and active status of bands"
   ]
  },
  {
   "cell_type": "code",
   "execution_count": 141,
   "metadata": {},
   "outputs": [
    {
     "name": "stdout",
     "output_type": "stream",
     "text": [
      "[{'name': 'Sunset Rubdown', 'country': 'Canada', 'active': False}, {'name': 'Women', 'country': 'Canada', 'active': False}, {'name': 'A Silver Mt Zion', 'country': 'Canada', 'active': True}]\n"
     ]
    }
   ],
   "source": [
    "bands = [{'name': 'sunset rubdown', 'country': 'UK', 'active': False},\n",
    "         {'name': 'women', 'country': 'Germany', 'active': False},\n",
    "         {'name': 'a silver mt. zion', 'country': 'Spain', 'active': True}]\n",
    "\n",
    "def format_bands(bands):\n",
    "    for band in bands:\n",
    "        band['country'] = 'Canada'\n",
    "        band['name'] = band['name'].replace('.', '')\n",
    "        band['name'] = band['name'].title()\n",
    "\n",
    "format_bands(bands)\n",
    "\n",
    "print (bands)\n",
    "# => [{'name': 'Sunset Rubdown', 'active': False, 'country': 'Canada'},\n",
    "#     {'name': 'Women', 'active': False, 'country': 'Canada' },\n",
    "#     {'name': 'A Silver Mt Zion', 'active': True, 'country': 'Canada'}]"
   ]
  },
  {
   "cell_type": "markdown",
   "metadata": {},
   "source": [
    "So looking at this, \"Format_bands\" is extremely vague. Formate into what. And that's hwere we need to be clear. And that's hwere imperative style fails\n",
    "\n",
    "Because format in this case literally means do something specific. Namely set to canada. It removes punctuation from the band name and capitalize it.\n",
    "\n",
    "She asks:\n",
    "\"what is it supposed to do?\" which is tied to knowing \"is it doing what we intend\"\n",
    "\n",
    "Hard to test and hard to parallelize.\n",
    "\n",
    "The solution is found in the rules_sequence!! Or Pipeline in this case.\n",
    "\n"
   ]
  },
  {
   "cell_type": "code",
   "execution_count": 153,
   "metadata": {
    "scrolled": true
   },
   "outputs": [
    {
     "name": "stdout",
     "output_type": "stream",
     "text": [
      "<map object at 0x000001E4F5B07A88>\n"
     ]
    }
   ],
   "source": [
    "print ((pipeline_each(bands, [set_canada_as_country,\n",
    "                            strip_punctuation_from_name,\n",
    "                            capitalize_names])))"
   ]
  },
  {
   "cell_type": "markdown",
   "metadata": {},
   "source": [
    "You should look at the original for this one. It's heavy in code.\n",
    "\n",
    "That said. So pipeline each takes a set of bands and then a set of transformation functions.\n",
    "\n",
    "As a first note, this is really cool how this is constructed. it recognizes that the data transformations are all in the strings. so it does a generalized function in assoc which is admittedly vague, BUT IS A GENERAL WAY OF REPLACING VALUES from any key in a dictionary"
   ]
  },
  {
   "cell_type": "code",
   "execution_count": 148,
   "metadata": {},
   "outputs": [],
   "source": [
    "#The data structure, for reference\n",
    "bands = [{'name': 'sunset rubdown', 'country': 'UK', 'active': False},\n",
    "         {'name': 'women', 'country': 'Germany', 'active': False},\n",
    "         {'name': 'a silver mt. zion', 'country': 'Spain', 'active': True}]\n",
    "\n",
    "\n",
    "def assoc(_d, key, value):\n",
    "    from copy import deepcopy #this is a specific thing\n",
    "    d = deepcopy(_d) #actually not sure why we need this?\n",
    "    d[key] = value #ah actually we use deepcopy so that we aren't using references\n",
    "    return d #python passes out/ref style by default\n",
    "    #deepcopy protects the original bands so we are doing functional style new returns\n",
    "\n",
    "#here we know we will change it to canada so we call it directly\n",
    "def set_canada_as_country(band):\n",
    "    return assoc(band, 'country', \"Canada\")\n",
    "\n",
    "#here we create the new values as part of the value change since\n",
    "#we have the value we need to modifie anyway\n",
    "def strip_punctuation_from_name(band):\n",
    "    return assoc(band, 'name', band['name'].replace('.', ''))\n",
    "\n",
    "def capitalize_names(band):\n",
    "    return assoc(band, 'name', band['name'].title())\n",
    "\n",
    "#remember that pipeline does canada, punctuation, capitalization and then moves on\n",
    "#notice that none of this defines the pipeline_each function that we need\n"
   ]
  },
  {
   "cell_type": "markdown",
   "metadata": {},
   "source": [
    "She notes that there is no way to associate a key on a band with a new value without the deepcopy ( we still print bands at the end after all)\n",
    "As noted in the comments above, the deep copy allows us to not accidentally affect the original.\n",
    "\n",
    "Replace and title are both risks here in that last point: if they mutate the original, then we are not being functional. But luckily they are actually functional!\n",
    "\n",
    "She notes that strings are immutable in python! Great! This is also true in c#! Fantastic!"
   ]
  },
  {
   "cell_type": "code",
   "execution_count": 144,
   "metadata": {},
   "outputs": [],
   "source": [
    "#now to write the pipeline_each\n",
    "def pipeline_each(bands, pipeline_functions):\n",
    "    \n",
    "    return map(lambda x: rule_sequence(x, pipeline_functions), bands)"
   ]
  },
  {
   "cell_type": "markdown",
   "metadata": {},
   "source": [
    "Ok so the above is wrong because you wouldn't have or need the rule_sequence"
   ]
  },
  {
   "cell_type": "code",
   "execution_count": 145,
   "metadata": {},
   "outputs": [],
   "source": [
    "#her solution, clearly more expertly writen\n",
    "def pipeline_each(data, functions):\n",
    "    return reduce(lambda a, x: map(x,a), functions, data)\n",
    "    #data is passed as a, and functions as x\n",
    "    #map runs all the functions on a (the data)\n",
    "    #reduce will run all functions on data\n",
    "    #starting with data means we return data at the end... I think\n",
    "    \n",
    "#weirdly enough it does return a full data structure!\n",
    "#Reduce didn't reduce it at all!\n",
    "#reduce here actually returns a map object"
   ]
  },
  {
   "cell_type": "code",
   "execution_count": 158,
   "metadata": {},
   "outputs": [
    {
     "name": "stdout",
     "output_type": "stream",
     "text": [
      "<map object at 0x000001E4F5B1A0C8>\n"
     ]
    }
   ],
   "source": [
    "#Apparently the above functions can be simplified even more with the call()\n",
    "#fucntion\n",
    "\n",
    "'''\n",
    "call() can be used to abstract that. It takes a function to apply and the key of the value to apply it to.\n",
    "but apparently this function is not in python 3.8\n",
    "'''\n",
    "def assoc(_d, key, value):\n",
    "    from copy import deepcopy\n",
    "    d = deepcopy(_d)\n",
    "    d[key] = value\n",
    "    return d\n",
    "\n",
    "def call(fn, key):\n",
    "    def apply_fn(record):\n",
    "        return assoc(record, key, fn(record.get(key)))\n",
    "    return apply_fn #I don't know how this is working without a send of value?\n",
    "    ##oh nevermind, the call itself is doing this.\n",
    "    #basically when pipeline_each does the reduce, it does apply_fn(record)\n",
    "\n",
    "set_canada_as_country = call(lambda x: 'Canada', 'country')\n",
    "strip_punctuation_from_name = call(lambda x: x.replace('.', ''), 'name')\n",
    "capitalize_names = call(str.title, 'name')\n",
    "\n",
    "print (pipeline_each(bands, [set_canada_as_country,\n",
    "                            strip_punctuation_from_name,\n",
    "                            capitalize_names]))"
   ]
  },
  {
   "cell_type": "markdown",
   "metadata": {},
   "source": [
    "There is so much here @.@\n",
    "\n",
    "We have defined that essentially we are going to need to search abitrary keys and replace them with values. how can we do that without the weird mess in the above code? We create call and the apply_fn()\n",
    "\n",
    "Call is a higher order funciont that takes a function and returns a function\n",
    "Higher order fucntions in general can take a function or return a function.\n",
    "call does both. confusing!\n",
    "\n",
    "so: call only defines and returns the apply_fn() *call is CLOSURE over apply_fn* so what call does here is turn set_canada_as_country INTO a function, closures let us return functions as part of functions, giving us freedom to reference the function however we like\n",
    "\n",
    "^^ in c# you will use Actions/Funcs to do this\n",
    "public Func CreateCall()\n",
    "    return delegate{\n",
    "    method body\n",
    "    }\n",
    "\n",
    "apply_fn() is very interesting in this regard. apply_fn exists for every individual call that we create. The fucntions become part of our state... and thus can change at run time too. here apply_fn is essentially just doing the assoc() call\n",
    "\n",
    "Her note four is very important and basically why we do this: *this is variable scope*\n",
    "    apply_fn has a reference to fn and key but they will not be inscope, but are usable because key and fn are defined *when the fucntion was defined* because python saves references that the function closes over.\n",
    "    \n",
    "As a result: call has no mention of band and can be used for anything.\n",
    "Functional programming is partyly about building a library of generic, reuable, composable functions.\n",
    "\n",
    "^^ perfect for game design! looking for generic, reusable, composable components to build game actions. Verbs to transfer between systems!\n",
    "    "
   ]
  },
  {
   "cell_type": "code",
   "execution_count": 159,
   "metadata": {},
   "outputs": [
    {
     "ename": "SyntaxError",
     "evalue": "invalid syntax (<ipython-input-159-95dbbbd1e7b0>, line 8)",
     "output_type": "error",
     "traceback": [
      "\u001b[1;36m  File \u001b[1;32m\"<ipython-input-159-95dbbbd1e7b0>\"\u001b[1;36m, line \u001b[1;32m8\u001b[0m\n\u001b[1;33m    print pipeline_each(bands, [call(lambda x: 'Canada', 'country'),\u001b[0m\n\u001b[1;37m                      ^\u001b[0m\n\u001b[1;31mSyntaxError\u001b[0m\u001b[1;31m:\u001b[0m invalid syntax\n"
     ]
    }
   ],
   "source": [
    "#and now to extract name and country\n",
    "def extract_name_and_country(band):\n",
    "    plucked_band = {}\n",
    "    plucked_band['name'] = band['name']\n",
    "    plucked_band['country'] = band['country']\n",
    "    return plucked_band\n",
    "\n",
    "print pipeline_each(bands, [call(lambda x: 'Canada', 'country'),\n",
    "                            call(lambda x: x.replace('.', ''), 'name'),\n",
    "                            call(str.title, 'name'),\n",
    "                            extract_name_and_country])\n",
    "\n",
    "# => [{'name': 'Sunset Rubdown', 'country': 'Canada'},\n",
    "#     {'name': 'Women', 'country': 'Canada'},\n",
    "#     {'name': 'A Silver Mt Zion', 'country': 'Canada'}]"
   ]
  },
  {
   "cell_type": "markdown",
   "metadata": {},
   "source": [
    "she notes that extract_name_and_country() could be written as a generic called pluck() that takes keys from a collection"
   ]
  },
  {
   "cell_type": "code",
   "execution_count": 160,
   "metadata": {},
   "outputs": [
    {
     "ename": "SyntaxError",
     "evalue": "invalid syntax (<ipython-input-160-4b8dc4982ecc>, line 1)",
     "output_type": "error",
     "traceback": [
      "\u001b[1;36m  File \u001b[1;32m\"<ipython-input-160-4b8dc4982ecc>\"\u001b[1;36m, line \u001b[1;32m1\u001b[0m\n\u001b[1;33m    print pipeline_each(bands, [call(lambda x: 'Canada', 'country'),\u001b[0m\n\u001b[1;37m                      ^\u001b[0m\n\u001b[1;31mSyntaxError\u001b[0m\u001b[1;31m:\u001b[0m invalid syntax\n"
     ]
    }
   ],
   "source": [
    "print pipeline_each(bands, [call(lambda x: 'Canada', 'country'),\n",
    "                            call(lambda x: x.replace('.', ''), 'name'),\n",
    "                            call(str.title, 'name'),\n",
    "                            pluck(['name', 'country'])])"
   ]
  },
  {
   "cell_type": "markdown",
   "metadata": {},
   "source": [
    "#exercise, take a lise of keys to extract from each record\n",
    "#this *needs* a higher order function\n",
    "\n",
    "#I can't figure out why it needs a higher order fucntion?\n",
    "\n",
    "<pre>\n",
    "#here is her answer\n",
    "def pluck(keys):\n",
    "    def pluck_fn(record):\n",
    "        return reduce(lambda a, x: assoc(a, x, record[x]),\n",
    "                      keys,\n",
    "                      {})\n",
    "    return pluck_fn</pre>\n",
    "By using a higher order function around the pluck_fn, we can send the keys of the entire thing into the function\n",
    "\n",
    "reduce starts with a = {} and then goes through the records of x to perform the assoc function to make a brand new structure that uses the keys that we passed in from the higher order function\n",
    "for every key, it will go through the record and get only those key values and add them as a pair int othe a{}. This is why we have to have a higher order because our actual context at the time of reduce doesn't go through the keys, but it would only be able to go rhgouh the bands, which doesn't have the result we need.\n",
    "\n",
    "It will take me some time to really internalize this aspect of it.\n",
    "I think this solves my problem involving the odds from before?\n",
    "I don't know baout reduce returning a struct though?"
   ]
  },
  {
   "cell_type": "markdown",
   "metadata": {},
   "source": [
    "parting notes:\n",
    "    \n",
    "Think of Mary, Isla and Sam. Turn iterations of lists into maps and reduces.\n",
    "\n",
    "Think of the race. Break code into functions. Make those functions functional. Turn a loop that repeats a process into a recursion.\n",
    "\n",
    "Think of the bands. Turn a sequence of operations into a pipeline."
   ]
  },
  {
   "cell_type": "code",
   "execution_count": null,
   "metadata": {},
   "outputs": [],
   "source": []
  }
 ],
 "metadata": {
  "kernelspec": {
   "display_name": "Python 3",
   "language": "python",
   "name": "python3"
  },
  "language_info": {
   "codemirror_mode": {
    "name": "ipython",
    "version": 3
   },
   "file_extension": ".py",
   "mimetype": "text/x-python",
   "name": "python",
   "nbconvert_exporter": "python",
   "pygments_lexer": "ipython3",
   "version": "3.7.4"
  }
 },
 "nbformat": 4,
 "nbformat_minor": 2
}
